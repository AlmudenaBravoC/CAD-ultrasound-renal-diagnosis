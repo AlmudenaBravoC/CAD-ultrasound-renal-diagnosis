{
  "nbformat": 4,
  "nbformat_minor": 0,
  "metadata": {
    "colab": {
      "provenance": [],
      "toc_visible": true
    },
    "kernelspec": {
      "name": "python3",
      "display_name": "Python 3"
    },
    "language_info": {
      "name": "python"
    }
  },
  "cells": [
    {
      "cell_type": "markdown",
      "source": [
        "# Calculate distances\n",
        "\n",
        "Get information about pixel-cm"
      ],
      "metadata": {
        "id": "8QzQ7JQjOvbb"
      }
    },
    {
      "cell_type": "code",
      "source": [
        "#@title Libraries\n",
        "\n",
        "import os\n",
        "from os import listdir\n",
        "from os.path import isfile, join\n",
        "\n",
        "import skimage\n",
        "from skimage import io\n",
        "import matplotlib.pyplot as plt\n",
        "import numpy as np\n",
        "import cv2\n",
        "\n",
        "from math import sqrt\n",
        "from skimage.feature import blob_dog, blob_log, blob_doh"
      ],
      "metadata": {
        "id": "mETxxo7WO8bX"
      },
      "execution_count": null,
      "outputs": []
    },
    {
      "cell_type": "code",
      "source": [
        "import pandas as pd\n",
        "data = pd.read_csv('data_kidney.csv')\n",
        "data"
      ],
      "metadata": {
        "colab": {
          "base_uri": "https://localhost:8080/",
          "height": 574
        },
        "id": "UXKQvRUDKEAz",
        "outputId": "352676e7-a9fa-4517-fa00-1edc8adb6738"
      },
      "execution_count": null,
      "outputs": [
        {
          "output_type": "execute_result",
          "data": {
            "text/plain": [
              "                     idx  g_dif_corticomedular  g_cortical_hiperecogénica  \\\n",
              "0     I20181002081653000                     0                          0   \n",
              "1     I20181002081653953                     0                          0   \n",
              "2     I20181002081654546                     1                          1   \n",
              "3     I20181002081717812                     0                          0   \n",
              "4     I20181002081717968                     0                          0   \n",
              "...                  ...                   ...                        ...   \n",
              "1980  I20181002081338984                     0                          0   \n",
              "1981  I20181002081356218                     0                          0   \n",
              "1982  I20181002081501906                     0                          0   \n",
              "1983  I20181002081652609                     0                          0   \n",
              "1984  I20181002081652890                     0                          0   \n",
              "\n",
              "             label           les1           les2           les3 les4 les5  \\\n",
              "0          healthy            NaN            NaN            NaN  NaN  NaN   \n",
              "1          healthy            NaN            NaN            NaN  NaN  NaN   \n",
              "2     pathological            NaN            NaN            NaN  NaN  NaN   \n",
              "3     pathological  quiste simple  quiste simple  quiste simple  NaN  NaN   \n",
              "4     pathological  quiste simple  quiste simple  quiste simple  NaN  NaN   \n",
              "...            ...            ...            ...            ...  ...  ...   \n",
              "1980  pathological  hidronefrosis            NaN            NaN  NaN  NaN   \n",
              "1981  pathological  quiste simple            NaN            NaN  NaN  NaN   \n",
              "1982  pathological  quiste simple  quiste simple  quiste simple  NaN  NaN   \n",
              "1983       healthy            NaN            NaN            NaN  NaN  NaN   \n",
              "1984       healthy            NaN            NaN            NaN  NaN  NaN   \n",
              "\n",
              "     les6 les7 les8 les9 les10 les11 les12  sum lesions  \n",
              "0     NaN  NaN  NaN  NaN   NaN   NaN   NaN            0  \n",
              "1     NaN  NaN  NaN  NaN   NaN   NaN   NaN            0  \n",
              "2     NaN  NaN  NaN  NaN   NaN   NaN   NaN            0  \n",
              "3     NaN  NaN  NaN  NaN   NaN   NaN   NaN            3  \n",
              "4     NaN  NaN  NaN  NaN   NaN   NaN   NaN            3  \n",
              "...   ...  ...  ...  ...   ...   ...   ...          ...  \n",
              "1980  NaN  NaN  NaN  NaN   NaN   NaN   NaN            1  \n",
              "1981  NaN  NaN  NaN  NaN   NaN   NaN   NaN            1  \n",
              "1982  NaN  NaN  NaN  NaN   NaN   NaN   NaN            3  \n",
              "1983  NaN  NaN  NaN  NaN   NaN   NaN   NaN            0  \n",
              "1984  NaN  NaN  NaN  NaN   NaN   NaN   NaN            0  \n",
              "\n",
              "[1985 rows x 17 columns]"
            ],
            "text/html": [
              "\n",
              "  <div id=\"df-332fe018-ff56-4712-8f12-bd7ac2ad6971\">\n",
              "    <div class=\"colab-df-container\">\n",
              "      <div>\n",
              "<style scoped>\n",
              "    .dataframe tbody tr th:only-of-type {\n",
              "        vertical-align: middle;\n",
              "    }\n",
              "\n",
              "    .dataframe tbody tr th {\n",
              "        vertical-align: top;\n",
              "    }\n",
              "\n",
              "    .dataframe thead th {\n",
              "        text-align: right;\n",
              "    }\n",
              "</style>\n",
              "<table border=\"1\" class=\"dataframe\">\n",
              "  <thead>\n",
              "    <tr style=\"text-align: right;\">\n",
              "      <th></th>\n",
              "      <th>idx</th>\n",
              "      <th>g_dif_corticomedular</th>\n",
              "      <th>g_cortical_hiperecogénica</th>\n",
              "      <th>label</th>\n",
              "      <th>les1</th>\n",
              "      <th>les2</th>\n",
              "      <th>les3</th>\n",
              "      <th>les4</th>\n",
              "      <th>les5</th>\n",
              "      <th>les6</th>\n",
              "      <th>les7</th>\n",
              "      <th>les8</th>\n",
              "      <th>les9</th>\n",
              "      <th>les10</th>\n",
              "      <th>les11</th>\n",
              "      <th>les12</th>\n",
              "      <th>sum lesions</th>\n",
              "    </tr>\n",
              "  </thead>\n",
              "  <tbody>\n",
              "    <tr>\n",
              "      <th>0</th>\n",
              "      <td>I20181002081653000</td>\n",
              "      <td>0</td>\n",
              "      <td>0</td>\n",
              "      <td>healthy</td>\n",
              "      <td>NaN</td>\n",
              "      <td>NaN</td>\n",
              "      <td>NaN</td>\n",
              "      <td>NaN</td>\n",
              "      <td>NaN</td>\n",
              "      <td>NaN</td>\n",
              "      <td>NaN</td>\n",
              "      <td>NaN</td>\n",
              "      <td>NaN</td>\n",
              "      <td>NaN</td>\n",
              "      <td>NaN</td>\n",
              "      <td>NaN</td>\n",
              "      <td>0</td>\n",
              "    </tr>\n",
              "    <tr>\n",
              "      <th>1</th>\n",
              "      <td>I20181002081653953</td>\n",
              "      <td>0</td>\n",
              "      <td>0</td>\n",
              "      <td>healthy</td>\n",
              "      <td>NaN</td>\n",
              "      <td>NaN</td>\n",
              "      <td>NaN</td>\n",
              "      <td>NaN</td>\n",
              "      <td>NaN</td>\n",
              "      <td>NaN</td>\n",
              "      <td>NaN</td>\n",
              "      <td>NaN</td>\n",
              "      <td>NaN</td>\n",
              "      <td>NaN</td>\n",
              "      <td>NaN</td>\n",
              "      <td>NaN</td>\n",
              "      <td>0</td>\n",
              "    </tr>\n",
              "    <tr>\n",
              "      <th>2</th>\n",
              "      <td>I20181002081654546</td>\n",
              "      <td>1</td>\n",
              "      <td>1</td>\n",
              "      <td>pathological</td>\n",
              "      <td>NaN</td>\n",
              "      <td>NaN</td>\n",
              "      <td>NaN</td>\n",
              "      <td>NaN</td>\n",
              "      <td>NaN</td>\n",
              "      <td>NaN</td>\n",
              "      <td>NaN</td>\n",
              "      <td>NaN</td>\n",
              "      <td>NaN</td>\n",
              "      <td>NaN</td>\n",
              "      <td>NaN</td>\n",
              "      <td>NaN</td>\n",
              "      <td>0</td>\n",
              "    </tr>\n",
              "    <tr>\n",
              "      <th>3</th>\n",
              "      <td>I20181002081717812</td>\n",
              "      <td>0</td>\n",
              "      <td>0</td>\n",
              "      <td>pathological</td>\n",
              "      <td>quiste simple</td>\n",
              "      <td>quiste simple</td>\n",
              "      <td>quiste simple</td>\n",
              "      <td>NaN</td>\n",
              "      <td>NaN</td>\n",
              "      <td>NaN</td>\n",
              "      <td>NaN</td>\n",
              "      <td>NaN</td>\n",
              "      <td>NaN</td>\n",
              "      <td>NaN</td>\n",
              "      <td>NaN</td>\n",
              "      <td>NaN</td>\n",
              "      <td>3</td>\n",
              "    </tr>\n",
              "    <tr>\n",
              "      <th>4</th>\n",
              "      <td>I20181002081717968</td>\n",
              "      <td>0</td>\n",
              "      <td>0</td>\n",
              "      <td>pathological</td>\n",
              "      <td>quiste simple</td>\n",
              "      <td>quiste simple</td>\n",
              "      <td>quiste simple</td>\n",
              "      <td>NaN</td>\n",
              "      <td>NaN</td>\n",
              "      <td>NaN</td>\n",
              "      <td>NaN</td>\n",
              "      <td>NaN</td>\n",
              "      <td>NaN</td>\n",
              "      <td>NaN</td>\n",
              "      <td>NaN</td>\n",
              "      <td>NaN</td>\n",
              "      <td>3</td>\n",
              "    </tr>\n",
              "    <tr>\n",
              "      <th>...</th>\n",
              "      <td>...</td>\n",
              "      <td>...</td>\n",
              "      <td>...</td>\n",
              "      <td>...</td>\n",
              "      <td>...</td>\n",
              "      <td>...</td>\n",
              "      <td>...</td>\n",
              "      <td>...</td>\n",
              "      <td>...</td>\n",
              "      <td>...</td>\n",
              "      <td>...</td>\n",
              "      <td>...</td>\n",
              "      <td>...</td>\n",
              "      <td>...</td>\n",
              "      <td>...</td>\n",
              "      <td>...</td>\n",
              "      <td>...</td>\n",
              "    </tr>\n",
              "    <tr>\n",
              "      <th>1980</th>\n",
              "      <td>I20181002081338984</td>\n",
              "      <td>0</td>\n",
              "      <td>0</td>\n",
              "      <td>pathological</td>\n",
              "      <td>hidronefrosis</td>\n",
              "      <td>NaN</td>\n",
              "      <td>NaN</td>\n",
              "      <td>NaN</td>\n",
              "      <td>NaN</td>\n",
              "      <td>NaN</td>\n",
              "      <td>NaN</td>\n",
              "      <td>NaN</td>\n",
              "      <td>NaN</td>\n",
              "      <td>NaN</td>\n",
              "      <td>NaN</td>\n",
              "      <td>NaN</td>\n",
              "      <td>1</td>\n",
              "    </tr>\n",
              "    <tr>\n",
              "      <th>1981</th>\n",
              "      <td>I20181002081356218</td>\n",
              "      <td>0</td>\n",
              "      <td>0</td>\n",
              "      <td>pathological</td>\n",
              "      <td>quiste simple</td>\n",
              "      <td>NaN</td>\n",
              "      <td>NaN</td>\n",
              "      <td>NaN</td>\n",
              "      <td>NaN</td>\n",
              "      <td>NaN</td>\n",
              "      <td>NaN</td>\n",
              "      <td>NaN</td>\n",
              "      <td>NaN</td>\n",
              "      <td>NaN</td>\n",
              "      <td>NaN</td>\n",
              "      <td>NaN</td>\n",
              "      <td>1</td>\n",
              "    </tr>\n",
              "    <tr>\n",
              "      <th>1982</th>\n",
              "      <td>I20181002081501906</td>\n",
              "      <td>0</td>\n",
              "      <td>0</td>\n",
              "      <td>pathological</td>\n",
              "      <td>quiste simple</td>\n",
              "      <td>quiste simple</td>\n",
              "      <td>quiste simple</td>\n",
              "      <td>NaN</td>\n",
              "      <td>NaN</td>\n",
              "      <td>NaN</td>\n",
              "      <td>NaN</td>\n",
              "      <td>NaN</td>\n",
              "      <td>NaN</td>\n",
              "      <td>NaN</td>\n",
              "      <td>NaN</td>\n",
              "      <td>NaN</td>\n",
              "      <td>3</td>\n",
              "    </tr>\n",
              "    <tr>\n",
              "      <th>1983</th>\n",
              "      <td>I20181002081652609</td>\n",
              "      <td>0</td>\n",
              "      <td>0</td>\n",
              "      <td>healthy</td>\n",
              "      <td>NaN</td>\n",
              "      <td>NaN</td>\n",
              "      <td>NaN</td>\n",
              "      <td>NaN</td>\n",
              "      <td>NaN</td>\n",
              "      <td>NaN</td>\n",
              "      <td>NaN</td>\n",
              "      <td>NaN</td>\n",
              "      <td>NaN</td>\n",
              "      <td>NaN</td>\n",
              "      <td>NaN</td>\n",
              "      <td>NaN</td>\n",
              "      <td>0</td>\n",
              "    </tr>\n",
              "    <tr>\n",
              "      <th>1984</th>\n",
              "      <td>I20181002081652890</td>\n",
              "      <td>0</td>\n",
              "      <td>0</td>\n",
              "      <td>healthy</td>\n",
              "      <td>NaN</td>\n",
              "      <td>NaN</td>\n",
              "      <td>NaN</td>\n",
              "      <td>NaN</td>\n",
              "      <td>NaN</td>\n",
              "      <td>NaN</td>\n",
              "      <td>NaN</td>\n",
              "      <td>NaN</td>\n",
              "      <td>NaN</td>\n",
              "      <td>NaN</td>\n",
              "      <td>NaN</td>\n",
              "      <td>NaN</td>\n",
              "      <td>0</td>\n",
              "    </tr>\n",
              "  </tbody>\n",
              "</table>\n",
              "<p>1985 rows × 17 columns</p>\n",
              "</div>\n",
              "      <button class=\"colab-df-convert\" onclick=\"convertToInteractive('df-332fe018-ff56-4712-8f12-bd7ac2ad6971')\"\n",
              "              title=\"Convert this dataframe to an interactive table.\"\n",
              "              style=\"display:none;\">\n",
              "        \n",
              "  <svg xmlns=\"http://www.w3.org/2000/svg\" height=\"24px\"viewBox=\"0 0 24 24\"\n",
              "       width=\"24px\">\n",
              "    <path d=\"M0 0h24v24H0V0z\" fill=\"none\"/>\n",
              "    <path d=\"M18.56 5.44l.94 2.06.94-2.06 2.06-.94-2.06-.94-.94-2.06-.94 2.06-2.06.94zm-11 1L8.5 8.5l.94-2.06 2.06-.94-2.06-.94L8.5 2.5l-.94 2.06-2.06.94zm10 10l.94 2.06.94-2.06 2.06-.94-2.06-.94-.94-2.06-.94 2.06-2.06.94z\"/><path d=\"M17.41 7.96l-1.37-1.37c-.4-.4-.92-.59-1.43-.59-.52 0-1.04.2-1.43.59L10.3 9.45l-7.72 7.72c-.78.78-.78 2.05 0 2.83L4 21.41c.39.39.9.59 1.41.59.51 0 1.02-.2 1.41-.59l7.78-7.78 2.81-2.81c.8-.78.8-2.07 0-2.86zM5.41 20L4 18.59l7.72-7.72 1.47 1.35L5.41 20z\"/>\n",
              "  </svg>\n",
              "      </button>\n",
              "      \n",
              "  <style>\n",
              "    .colab-df-container {\n",
              "      display:flex;\n",
              "      flex-wrap:wrap;\n",
              "      gap: 12px;\n",
              "    }\n",
              "\n",
              "    .colab-df-convert {\n",
              "      background-color: #E8F0FE;\n",
              "      border: none;\n",
              "      border-radius: 50%;\n",
              "      cursor: pointer;\n",
              "      display: none;\n",
              "      fill: #1967D2;\n",
              "      height: 32px;\n",
              "      padding: 0 0 0 0;\n",
              "      width: 32px;\n",
              "    }\n",
              "\n",
              "    .colab-df-convert:hover {\n",
              "      background-color: #E2EBFA;\n",
              "      box-shadow: 0px 1px 2px rgba(60, 64, 67, 0.3), 0px 1px 3px 1px rgba(60, 64, 67, 0.15);\n",
              "      fill: #174EA6;\n",
              "    }\n",
              "\n",
              "    [theme=dark] .colab-df-convert {\n",
              "      background-color: #3B4455;\n",
              "      fill: #D2E3FC;\n",
              "    }\n",
              "\n",
              "    [theme=dark] .colab-df-convert:hover {\n",
              "      background-color: #434B5C;\n",
              "      box-shadow: 0px 1px 3px 1px rgba(0, 0, 0, 0.15);\n",
              "      filter: drop-shadow(0px 1px 2px rgba(0, 0, 0, 0.3));\n",
              "      fill: #FFFFFF;\n",
              "    }\n",
              "  </style>\n",
              "\n",
              "      <script>\n",
              "        const buttonEl =\n",
              "          document.querySelector('#df-332fe018-ff56-4712-8f12-bd7ac2ad6971 button.colab-df-convert');\n",
              "        buttonEl.style.display =\n",
              "          google.colab.kernel.accessAllowed ? 'block' : 'none';\n",
              "\n",
              "        async function convertToInteractive(key) {\n",
              "          const element = document.querySelector('#df-332fe018-ff56-4712-8f12-bd7ac2ad6971');\n",
              "          const dataTable =\n",
              "            await google.colab.kernel.invokeFunction('convertToInteractive',\n",
              "                                                     [key], {});\n",
              "          if (!dataTable) return;\n",
              "\n",
              "          const docLinkHtml = 'Like what you see? Visit the ' +\n",
              "            '<a target=\"_blank\" href=https://colab.research.google.com/notebooks/data_table.ipynb>data table notebook</a>'\n",
              "            + ' to learn more about interactive tables.';\n",
              "          element.innerHTML = '';\n",
              "          dataTable['output_type'] = 'display_data';\n",
              "          await google.colab.output.renderOutput(dataTable, element);\n",
              "          const docLink = document.createElement('div');\n",
              "          docLink.innerHTML = docLinkHtml;\n",
              "          element.appendChild(docLink);\n",
              "        }\n",
              "      </script>\n",
              "    </div>\n",
              "  </div>\n",
              "  "
            ]
          },
          "metadata": {},
          "execution_count": 4
        }
      ]
    },
    {
      "cell_type": "code",
      "source": [
        "images = {}\n",
        "im2 = []\n",
        "\n",
        "for root, dirs, files in os.walk('bbdd_kidney/images'):\n",
        "   path = root.split(os.sep)\n",
        "   for index, file in enumerate(files):\n",
        "      im2 = [ f for f in listdir(root) if isfile(join(root,f)) ]\n",
        "      images[index] = join(root,im2[index])"
      ],
      "metadata": {
        "id": "WP5qhDWwMTgo"
      },
      "execution_count": null,
      "outputs": []
    },
    {
      "cell_type": "markdown",
      "source": [
        "#FUNCTIONS"
      ],
      "metadata": {
        "id": "AHPyDKHcPKwj"
      }
    },
    {
      "cell_type": "code",
      "source": [
        "def crop_y(image , x1=90,x2=150,y1=50,y2=150):\n",
        "  \"\"\"\n",
        "  Return the cropped image at the x1, x2, y1, y2 coordinates\n",
        "  \"\"\"\n",
        "  return image[y1:y2 , x1:x2, :]"
      ],
      "metadata": {
        "id": "c2geWer7RKg_"
      },
      "execution_count": null,
      "outputs": []
    },
    {
      "cell_type": "code",
      "source": [
        "def crop_x(image, x1=100,x2=250, y1=38,y2=48):\n",
        "  \"\"\"\n",
        "  Return the cropped image at the x1, x2, y1, y2 coordinates\n",
        "  \"\"\"\n",
        "  return image[y1:y2 , x1:x2, :]"
      ],
      "metadata": {
        "id": "XWQx-9Z60nHv"
      },
      "execution_count": null,
      "outputs": []
    },
    {
      "cell_type": "code",
      "source": [
        "def crop_x2D(image, x1=100,x2=250, y1=38,y2=48):\n",
        "  \"\"\"\n",
        "  Return the cropped image at the x1, x2, y1, y2 coordinates\n",
        "  \"\"\"\n",
        "  return image[y1:y2 , x1:x2]"
      ],
      "metadata": {
        "id": "kjmU--Lmj6tA"
      },
      "execution_count": null,
      "outputs": []
    },
    {
      "cell_type": "markdown",
      "source": [
        "## Tests: cropping dot part of the image\n",
        "\n",
        "### VERTICAL example"
      ],
      "metadata": {
        "id": "OrMnstLMPWlQ"
      }
    },
    {
      "cell_type": "code",
      "source": [
        "img = io.imread(images[0])\n",
        "\n",
        "print(np.shape(img))\n",
        "img_cropped = crop_x(img )#, 90,150,50,145)\n",
        "io.imshow(img_cropped)"
      ],
      "metadata": {
        "colab": {
          "base_uri": "https://localhost:8080/",
          "height": 113
        },
        "id": "Xt4KblpyRXil",
        "outputId": "924d30bf-50de-422d-fb82-19916cc8d81e"
      },
      "execution_count": null,
      "outputs": [
        {
          "output_type": "stream",
          "name": "stdout",
          "text": [
            "(561, 800, 3)\n"
          ]
        },
        {
          "output_type": "execute_result",
          "data": {
            "text/plain": [
              "<matplotlib.image.AxesImage at 0x7fc583cd6810>"
            ]
          },
          "metadata": {},
          "execution_count": 12
        },
        {
          "output_type": "display_data",
          "data": {
            "text/plain": [
              "<Figure size 432x288 with 1 Axes>"
            ],
            "image/png": "[encoded data removed]"
          },
          "metadata": {
            "needs_background": "light"
          }
        }
      ]
    },
    {
      "cell_type": "code",
      "source": [
        "img_cropped = crop_y(img , 90,150,50,145)\n",
        "io.imshow(img_cropped)"
      ],
      "metadata": {
        "colab": {
          "base_uri": "https://localhost:8080/",
          "height": 315
        },
        "id": "3eDL3PJBWimU",
        "outputId": "d8c9c752-bb5d-41eb-d675-b484006edaa6"
      },
      "execution_count": null,
      "outputs": [
        {
          "output_type": "execute_result",
          "data": {
            "text/plain": [
              "<matplotlib.image.AxesImage at 0x7fc58828ba10>"
            ]
          },
          "metadata": {},
          "execution_count": 13
        },
        {
          "output_type": "display_data",
          "data": {
            "text/plain": [
              "<Figure size 432x288 with 1 Axes>"
            ],
            "image/png": "[encoded data removed]"
          },
          "metadata": {
            "needs_background": "light"
          }
        }
      ]
    },
    {
      "cell_type": "code",
      "source": [
        "#@title Using different methods\n",
        "\n",
        "image_gray = skimage.color.rgb2gray(img_cropped)\n",
        "blobs_log = blob_log(image_gray, max_sigma=30, num_sigma=10, threshold=.1)\n",
        "\n",
        "# Compute radii in the 3rd column.\n",
        "blobs_log[:, 2] = blobs_log[:, 2] * sqrt(2)\n",
        "\n",
        "blobs_dog = blob_dog(image_gray, max_sigma=30, threshold=.1)\n",
        "blobs_dog[:, 2] = blobs_dog[:, 2] * sqrt(2)\n",
        "\n",
        "blobs_doh = blob_doh(image_gray, max_sigma=30, threshold=.01)\n",
        "\n",
        "blobs_list = [blobs_log, blobs_dog, blobs_doh]\n",
        "colors = ['yellow', 'lime', 'red']\n",
        "titles = ['Laplacian of Gaussian', 'Difference of Gaussian',\n",
        "          'Determinant of Hessian']\n",
        "sequence = zip(blobs_list, colors, titles)\n",
        "\n",
        "fig, axes = plt.subplots(1, 3, figsize=(9, 3), sharex=True, sharey=True)\n",
        "ax = axes.ravel()\n",
        "\n",
        "for idx, (blobs, color, title) in enumerate(sequence):\n",
        "    ax[idx].set_title(title)\n",
        "    ax[idx].imshow(img_cropped)\n",
        "    for blob in blobs:\n",
        "        y, x, r = blob\n",
        "        c = plt.Circle((x, y), r, color=color, linewidth=2, fill=False)\n",
        "        ax[idx].add_patch(c)\n",
        "    ax[idx].set_axis_off()\n",
        "\n",
        "plt.tight_layout()\n",
        "plt.show()"
      ],
      "metadata": {
        "colab": {
          "base_uri": "https://localhost:8080/",
          "height": 225
        },
        "id": "jcS63AaV_Hg3",
        "outputId": "05acd5e9-8899-426d-f301-e3996c53d16b"
      },
      "execution_count": null,
      "outputs": [
        {
          "output_type": "display_data",
          "data": {
            "text/plain": [
              "<Figure size 648x216 with 3 Axes>"
            ],
            "image/png": "[encoded data removed]"
          },
          "metadata": {
            "needs_background": "light"
          }
        }
      ]
    },
    {
      "cell_type": "markdown",
      "source": [
        "### HORIZONTAL example\n",
        "\n"
      ],
      "metadata": {
        "id": "WWfh5GiOP_w_"
      }
    },
    {
      "cell_type": "code",
      "source": [
        "img = io.imread(images[1000])\n",
        "img_cropped = crop_x(img,100,300,0,60)\n",
        "io.imshow(img_cropped)\n"
      ],
      "metadata": {
        "colab": {
          "base_uri": "https://localhost:8080/",
          "height": 186
        },
        "id": "-j6gDbTFW2Ea",
        "outputId": "26046a3b-e15e-4319-908b-f558ec336cc0"
      },
      "execution_count": null,
      "outputs": [
        {
          "output_type": "execute_result",
          "data": {
            "text/plain": [
              "<matplotlib.image.AxesImage at 0x7fc572e01c90>"
            ]
          },
          "metadata": {},
          "execution_count": 15
        },
        {
          "output_type": "display_data",
          "data": {
            "text/plain": [
              "<Figure size 432x288 with 1 Axes>"
            ],
            "image/png": "[encoded data removed]"
          },
          "metadata": {
            "needs_background": "light"
          }
        }
      ]
    },
    {
      "cell_type": "code",
      "source": [
        "#@title Using different methods \n",
        "\n",
        "image_gray = skimage.color.rgb2gray(img_cropped)\n",
        "blobs_log = blob_log(image_gray, max_sigma=30, num_sigma=10, threshold=.1)\n",
        "\n",
        "# Compute radii in the 3rd column.\n",
        "blobs_log[:, 2] = blobs_log[:, 2] * sqrt(2)\n",
        "\n",
        "blobs_dog = blob_dog(image_gray, max_sigma=30, threshold=.1)\n",
        "blobs_dog[:, 2] = blobs_dog[:, 2] * sqrt(2)\n",
        "\n",
        "blobs_doh = blob_doh(image_gray, max_sigma=30, threshold=.01)\n",
        "\n",
        "blobs_list = [blobs_log, blobs_dog, blobs_doh]\n",
        "colors = ['yellow', 'lime', 'red']\n",
        "titles = ['Laplacian of Gaussian', 'Difference of Gaussian',\n",
        "          'Determinant of Hessian']\n",
        "sequence = zip(blobs_list, colors, titles)\n",
        "\n",
        "fig, axes = plt.subplots(1, 3, figsize=(9, 3), sharex=True, sharey=True)\n",
        "ax = axes.ravel()\n",
        "\n",
        "for idx, (blobs, color, title) in enumerate(sequence):\n",
        "    ax[idx].set_title(title)\n",
        "    ax[idx].imshow(img_cropped)\n",
        "    for blob in blobs:\n",
        "        y, x, r = blob\n",
        "        c = plt.Circle((x, y), r, color=color, linewidth=2, fill=False)\n",
        "        ax[idx].add_patch(c)\n",
        "    ax[idx].set_axis_off()\n",
        "\n",
        "plt.tight_layout()\n",
        "plt.show()"
      ],
      "metadata": {
        "colab": {
          "base_uri": "https://localhost:8080/",
          "height": 107
        },
        "id": "xtmSB2MyW5vD",
        "outputId": "213a9568-e41b-4336-d7e4-c345d804f492"
      },
      "execution_count": null,
      "outputs": [
        {
          "output_type": "display_data",
          "data": {
            "text/plain": [
              "<Figure size 648x216 with 3 Axes>"
            ],
            "image/png": "[encoded data removed]"
          },
          "metadata": {
            "needs_background": "light"
          }
        }
      ]
    },
    {
      "cell_type": "markdown",
      "source": [
        "## Find the points"
      ],
      "metadata": {
        "id": "tXq_hoWXQSJq"
      }
    },
    {
      "cell_type": "code",
      "source": [
        "def find_points(image, laplacian=True):\n",
        "\timage_gray = skimage.color.rgb2gray(image)\n",
        "\tif laplacian == True:\n",
        "\t\tblobs_log = blob_log(image_gray, max_sigma=30, num_sigma=10, threshold=.1)\n",
        "\t\tblobs_log[:, 2] = blobs_log[:, 2] * sqrt(2)\n",
        "\t\treturn blobs_log\n",
        "\n",
        "\telse:\n",
        "\t\tblobs_dog = blob_dog(image_gray, max_sigma=30, threshold=.1)\n",
        "\t\tblobs_dog[:, 2] = blobs_dog[:, 2] * sqrt(2)\n",
        "\t\treturn blobs_dog\n"
      ],
      "metadata": {
        "id": "bWeeTVjZLBuD"
      },
      "execution_count": null,
      "outputs": []
    },
    {
      "cell_type": "code",
      "source": [
        "points = find_points(img,laplacian=True)\n",
        "points"
      ],
      "metadata": {
        "colab": {
          "base_uri": "https://localhost:8080/"
        },
        "id": "5hBsuE3EDzyc",
        "outputId": "ea463bae-53d0-46ff-fed0-f0acf92ef004"
      },
      "execution_count": null,
      "outputs": [
        {
          "output_type": "execute_result",
          "data": {
            "text/plain": [
              "array([[ 23.        ,  72.        ,   1.41421356],\n",
              "       [ 42.        , 101.        ,   1.41421356],\n",
              "       [ 42.        ,  74.        ,   1.41421356],\n",
              "       [ 43.        , 125.        ,   1.41421356],\n",
              "       [ 37.        , 101.        ,   1.41421356],\n",
              "       [ 22.        , 143.        ,   1.41421356],\n",
              "       [ 35.        , 141.        ,   1.41421356],\n",
              "       [ 37.        ,  90.        ,   1.41421356],\n",
              "       [ 38.        , 134.        ,   1.41421356],\n",
              "       [ 43.        ,  50.        ,   1.41421356],\n",
              "       [ 22.        ,  60.        ,   1.41421356],\n",
              "       [ 22.        , 101.        ,   1.41421356],\n",
              "       [ 43.        ,  25.        ,   1.41421356],\n",
              "       [ 38.        , 126.        ,   1.41421356],\n",
              "       [ 21.        ,  51.        ,   1.41421356],\n",
              "       [ 22.        ,  90.        ,   1.41421356],\n",
              "       [ 24.        , 103.        ,   1.41421356],\n",
              "       [ 37.        ,  60.        ,   1.41421356],\n",
              "       [ 24.        , 141.        ,   1.41421356],\n",
              "       [ 35.        ,  58.        ,   1.41421356],\n",
              "       [ 35.        , 103.        ,   1.41421356],\n",
              "       [ 21.        , 134.        ,   1.41421356],\n",
              "       [ 37.        ,  72.        ,   1.41421356],\n",
              "       [ 31.        ,  68.        ,   1.41421356],\n",
              "       [ 21.        ,  38.        ,   1.41421356],\n",
              "       [ 37.        , 143.        ,   1.41421356],\n",
              "       [ 38.        ,  51.        ,   1.41421356],\n",
              "       [ 21.        ,  69.        ,   1.41421356],\n",
              "       [ 29.        ,  44.        ,   1.41421356],\n",
              "       [ 27.        ,  43.        ,   1.41421356],\n",
              "       [ 32.        ,  46.        ,   1.41421356],\n",
              "       [ 21.        , 125.        ,   1.41421356],\n",
              "       [ 39.        ,  94.        ,   1.41421356],\n",
              "       [ 20.        ,  94.        ,   1.41421356],\n",
              "       [ 39.        ,  97.        ,   1.41421356],\n",
              "       [ 20.        ,  97.        ,   1.41421356],\n",
              "       [ 31.        ,  56.        ,   1.41421356],\n",
              "       [ 20.        ,  64.        ,   1.41421356],\n",
              "       [ 39.        ,  68.        ,   1.41421356],\n",
              "       [ 20.        , 147.        ,   1.41421356],\n",
              "       [ 39.        ,  64.        ,   1.41421356],\n",
              "       [ 31.        , 139.        ,   1.41421356],\n",
              "       [ 28.        ,  56.        ,   1.41421356],\n",
              "       [ 39.        , 147.        ,   1.41421356],\n",
              "       [ 28.        , 139.        ,   1.41421356],\n",
              "       [ 26.        , 134.        ,   1.41421356],\n",
              "       [ 30.        ,  51.        ,   1.41421356],\n",
              "       [ 24.        ,  41.        ,   1.41421356],\n",
              "       [ 33.        , 126.        ,   1.41421356],\n",
              "       [ 34.        , 133.        ,   1.41421356],\n",
              "       [ 30.        , 133.        ,   1.41421356],\n",
              "       [ 24.        ,  51.        ,   1.41421356],\n",
              "       [ 36.        ,  49.        ,   1.41421356],\n",
              "       [ 38.        ,  18.        ,   1.41421356],\n",
              "       [ 27.        ,  37.        ,   1.41421356],\n",
              "       [ 39.        ,  22.        ,   1.41421356],\n",
              "       [ 28.        ,  24.        ,  10.5280343 ],\n",
              "       [ 30.        , 115.        ,  10.5280343 ],\n",
              "       [ 30.        ,  82.        ,  10.5280343 ],\n",
              "       [ 36.        ,  35.        ,   5.97112393]])"
            ]
          },
          "metadata": {},
          "execution_count": 23
        }
      ]
    },
    {
      "cell_type": "markdown",
      "source": [
        "# Combine all\n",
        "\n",
        "Create a more general approach using the horizontal"
      ],
      "metadata": {
        "id": "rLy9cyqlQj4_"
      }
    },
    {
      "cell_type": "code",
      "source": [
        "#@title crop function\n",
        "\n",
        "def crop_image(img):\n",
        "  if len(np.shape(img)) == 3:\n",
        "    img1 = crop_x(img,100,300,0,60)\n",
        "  else:\n",
        "    img1 = crop_x2D(img,100,300,0,60)\n",
        "  points = find_points(img1,laplacian=False)\n",
        "  for p in points:\n",
        "    if p[2] <1.5:\n",
        "      x = int(p[1])\n",
        "      y = int(p[0])\n",
        "      break\n",
        "  try:\n",
        "    if y <3:\n",
        "      y=3\n",
        "  except:\n",
        "    img = second_crop(img)\n",
        "    return img\n",
        "  if x<49:\n",
        "    x=50\n",
        "  img = crop_x(img, x1=(x-10),x2=(x+130),y1=(y-2),y2=(y+2))\n",
        "  return img\n",
        "\n",
        "def second_crop(img):\n",
        "  if len(np.shape(img)) == 3:\n",
        "    img1 = crop_x(img,100,300,0,60)\n",
        "  else:\n",
        "    img1 = crop_x2D(img,100,300,0,60)\n",
        "  points = find_points(img1,laplacian=True)\n",
        "  for p in points:\n",
        "    if p[2] <1.5:\n",
        "      x = int(p[1])\n",
        "      y = int(p[0])\n",
        "      break\n",
        "  try:\n",
        "    if y <3:\n",
        "      y=3\n",
        "  except UnboundLocalError:\n",
        "    img = crop_x(img,y1=0)\n",
        "    return img\n",
        "  if x<49:\n",
        "    x=50\n",
        "  img = crop_x(img, x1=(x-10),x2=(x+130),y1=(y-2),y2=(y+2))\n",
        "  return img"
      ],
      "metadata": {
        "id": "AwQde7KsdOn_"
      },
      "execution_count": 1,
      "outputs": []
    },
    {
      "cell_type": "code",
      "source": [
        "img = io.imread(images[1000])\n",
        "a = crop_image(img)\n",
        "io.imshow(a)"
      ],
      "metadata": {
        "colab": {
          "base_uri": "https://localhost:8080/",
          "height": 80
        },
        "id": "6uuj_IHHiA_S",
        "outputId": "7b51093d-1502-4607-a9a5-cb1940c11946"
      },
      "execution_count": null,
      "outputs": [
        {
          "output_type": "execute_result",
          "data": {
            "text/plain": [
              "<matplotlib.image.AxesImage at 0x7fc571ee3d10>"
            ]
          },
          "metadata": {},
          "execution_count": 27
        },
        {
          "output_type": "display_data",
          "data": {
            "text/plain": [
              "<Figure size 432x288 with 1 Axes>"
            ],
            "image/png": "[encoded data removed]"
          },
          "metadata": {
            "needs_background": "light"
          }
        }
      ]
    },
    {
      "cell_type": "code",
      "source": [
        "def add_border(image, bt=5):\n",
        "    image = skimage.color.rgb2gray(image)\n",
        "    \n",
        "    image_b = cv2.copyMakeBorder(image, bt, bt, bt, bt, cv2.BORDER_CONSTANT)\n",
        "    \n",
        "    return image_b\n"
      ],
      "metadata": {
        "id": "bUm3cF9ImNE0"
      },
      "execution_count": null,
      "outputs": []
    },
    {
      "cell_type": "code",
      "source": [
        "b = add_border(a, bt=10)\n",
        "io.imshow(b)"
      ],
      "metadata": {
        "colab": {
          "base_uri": "https://localhost:8080/",
          "height": 178
        },
        "id": "90EuwVm8mSSp",
        "outputId": "7f2fe9fb-2b36-48b6-8dca-39792223cbfc"
      },
      "execution_count": null,
      "outputs": [
        {
          "output_type": "stream",
          "name": "stderr",
          "text": [
            "/usr/local/lib/python3.7/dist-packages/skimage/io/_plugins/matplotlib_plugin.py:150: UserWarning: Low image data range; displaying image with stretched contrast.\n",
            "  lo, hi, cmap = _get_display_range(image)\n"
          ]
        },
        {
          "output_type": "execute_result",
          "data": {
            "text/plain": [
              "<matplotlib.image.AxesImage at 0x7fc5652a6bd0>"
            ]
          },
          "metadata": {},
          "execution_count": 30
        },
        {
          "output_type": "display_data",
          "data": {
            "text/plain": [
              "<Figure size 432x288 with 2 Axes>"
            ],
            "image/png": "[encoded data removed]"
          },
          "metadata": {
            "needs_background": "light"
          }
        }
      ]
    },
    {
      "cell_type": "code",
      "source": [
        "points = find_points(b)\n",
        "fig, ax = plt.subplots()\n",
        "\n",
        "ax.imshow(b)\n",
        "for blob in points:\n",
        "    y, x, r = blob\n",
        "    c = plt.Circle((x, y), r, color='lime', linewidth=2, fill=False)\n",
        "    ax.add_patch(c)\n",
        "ax.set_axis_off()\n",
        "\n",
        "plt.tight_layout()\n",
        "plt.show()"
      ],
      "metadata": {
        "colab": {
          "base_uri": "https://localhost:8080/",
          "height": 148
        },
        "id": "JWOrQYd9mbNe",
        "outputId": "61e26c50-3c95-4eb8-f96c-3e573b4e9ef0"
      },
      "execution_count": null,
      "outputs": [
        {
          "output_type": "stream",
          "name": "stderr",
          "text": [
            "/usr/local/lib/python3.7/dist-packages/ipykernel_launcher.py:2: FutureWarning: The behavior of rgb2gray will change in scikit-image 0.19. Currently, rgb2gray allows 2D grayscale image to be passed as inputs and leaves them unmodified as outputs. Starting from version 0.19, 2D arrays will be treated as 1D images with 3 channels.\n",
            "  \n"
          ]
        },
        {
          "output_type": "display_data",
          "data": {
            "text/plain": [
              "<Figure size 432x288 with 1 Axes>"
            ],
            "image/png": "[encoded data removed]"
          },
          "metadata": {
            "needs_background": "light"
          }
        }
      ]
    },
    {
      "cell_type": "code",
      "source": [
        "#@title Get distance from points\n",
        "\n",
        "def get_distance_x(points):\n",
        "  all =[]\n",
        "  for p in points:\n",
        "    if p[2] < 1.5:\n",
        "      all.append(p[1])\n",
        "  all =np.sort(all)\n",
        "  distances = [abs(all[i] - all[i+1]) for i in range(len(all)-1)]\n",
        "  return distances"
      ],
      "metadata": {
        "id": "UOe3rMWGmwo2"
      },
      "execution_count": null,
      "outputs": []
    },
    {
      "cell_type": "code",
      "source": [
        "d = get_distance_x(points)\n",
        "print(d)\n",
        "print(np.mean(d))"
      ],
      "metadata": {
        "colab": {
          "base_uri": "https://localhost:8080/"
        },
        "id": "ESsiSmNSm6H6",
        "outputId": "70385962-bc3a-4a98-d32a-55371e9af35d"
      },
      "execution_count": null,
      "outputs": [
        {
          "output_type": "stream",
          "name": "stdout",
          "text": [
            "[39.0, 41.0, 39.0]\n",
            "39.666666666666664\n"
          ]
        }
      ]
    }
  ]
}