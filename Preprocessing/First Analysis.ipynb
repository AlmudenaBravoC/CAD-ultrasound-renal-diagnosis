def crop_images(file, s_lesions=s_lesions, poly = poly, error_files = error_files):
  """
  features:
  - folder name + file time
  - results_parallel: the dict we obtained in the analysis of the images dimension
  """
  file_name = file.split('.')[0]

  #getting files from the folders_________________
  im = Image.open('images/'+file) #IMAGE
  mask = scipy.io.loadmat('masks/'+file_name) #MASK

  if file_name+'.mat' in error_files:
    index = error_files.index(file_name+'.mat')
    f_poly = poly[index]
  else:
    f_poly= file_name
  mask_poly = scipy.io.loadmat('masks_poly/'+f_poly) #MASK_POLY

  im_dim= np.shape(im)[:2] #we get the dimension of the image (and the masks)
  min_s = 375
  
  #getting the number of pixels we need to remove
  h = im_dim[0] - min_s
  w = im_dim[1] - min_s

  left = int(w/2); right = min_s+int(w/2)
  top = int(h/4); bottom = min_s+int(h/4)

 
  ######################################## CROP AND SAVE ####################################################
  #IMAGE
  im2 = im.crop((left, top, right, bottom))
  # im2.save(f"/content/gdrive/MyDrive/Colab Notebooks/Ramon&Cajal/normal_crop/cropped_images/{file}")

  #MASK
  mask2 = mask['mask'][top:bottom, left:right]
  # np.savetxt(f"/content/gdrive/MyDrive/Colab Notebooks/Ramon&Cajal/normal_crop/cropped_masks/{file_name}.txt", mask2, fmt='%s') #fmt = '%s' --> so it saves 0 instead of 0.0000000+00   

  #MASK_POLY
  mask_p2 = mask_poly['mask'][top:bottom, left:right]
  # np.savetxt(f"/content/gdrive/MyDrive/Colab Notebooks/Ramon&Cajal/normal_crop/cropped_masks_poly/{file_name}.txt", mask_p2, fmt='%s')

  ######################################## CROP AND SAVE OF MASK_LESIONS ####################################################
  for lesion in range(s_lesions[file_name]):
    m_lesion = scipy.io.loadmat('lesion_masks/'+file_name+'__'+str(lesion+1)) #LESION_MASK
    m_lesion2 = m_lesion['mask'][top:bottom, left:right]
    # np.savetxt(f"/content/gdrive/MyDrive/Colab Notebooks/Ramon&Cajal/normal_crop/cropped_lesion_masks/{file_name+'__'+str(lesion+1)}.txt", m_lesion2, fmt='%s')
  

  #just to check it work, and mantain the same structure after cropping the image and the mask
  # plt.subplot(121)
  # plt.imshow(im)

  # plt.subplot(122)
  # img_g = im.convert('L')
  # res = mask['mask']*img_g
  # io.imshow(res)
  # plt.show()

  # plt.subplot(121)
  # plt.imshow(im2)

  # plt.subplot(122)
  # img_g = im2.convert('L')
  # res = mask2*img_g
  # io.imshow(res)
  # plt.show()
